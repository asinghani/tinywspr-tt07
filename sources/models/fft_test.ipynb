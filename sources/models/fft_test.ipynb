{
 "cells": [
  {
   "cell_type": "code",
   "execution_count": 3,
   "id": "c7e201cf-90c1-4067-aa5f-ef2e1909bac3",
   "metadata": {},
   "outputs": [],
   "source": [
    "import numpy as np\n",
    "from scipy.fft import fft, fftfreq\n",
    "from scipy.signal.windows import blackman\n",
    "import matplotlib.pyplot as plt\n",
    "%matplotlib inline"
   ]
  },
  {
   "cell_type": "code",
   "execution_count": 26,
   "id": "e8a5f474-b67c-468e-81ef-542f911c85b0",
   "metadata": {},
   "outputs": [
    {
     "data": {
      "text/plain": [
       "21474.83648"
      ]
     },
     "execution_count": 26,
     "metadata": {},
     "output_type": "execute_result"
    }
   ],
   "source": [
    "2**32 * (100 / clkfreq)"
   ]
  },
  {
   "cell_type": "code",
   "execution_count": 18,
   "id": "f4586806-b260-4deb-acf0-61166da07e79",
   "metadata": {},
   "outputs": [],
   "source": [
    "clkfreq = 20e6"
   ]
  },
  {
   "cell_type": "code",
   "execution_count": 23,
   "id": "48decfd5-4b04-4957-8aa8-27a642f992dd",
   "metadata": {},
   "outputs": [
    {
     "data": {
      "text/plain": [
       "1677850449"
      ]
     },
     "execution_count": 23,
     "metadata": {},
     "output_type": "execute_result"
    }
   ],
   "source": [
    "osfreq = int(2**32 * (7_813_100 / clkfreq))\n",
    "osfreq"
   ]
  },
  {
   "cell_type": "code",
   "execution_count": 24,
   "id": "f1622c61-143a-4b50-a6e7-a5e4cb45e985",
   "metadata": {},
   "outputs": [
    {
     "data": {
      "text/plain": [
       "21475"
      ]
     },
     "execution_count": 24,
     "metadata": {},
     "output_type": "execute_result"
    }
   ],
   "source": [
    "1677850449 - 1677828974"
   ]
  },
  {
   "cell_type": "code",
   "execution_count": 25,
   "id": "572b328b-6429-44f3-a9c5-64e250950d53",
   "metadata": {},
   "outputs": [
    {
     "data": {
      "text/plain": [
       "'0x53e3'"
      ]
     },
     "execution_count": 25,
     "metadata": {},
     "output_type": "execute_result"
    }
   ],
   "source": [
    "hex(21475)"
   ]
  },
  {
   "cell_type": "code",
   "execution_count": null,
   "id": "90519d9b-1e38-465a-bb80-0cc4230f9596",
   "metadata": {},
   "outputs": [],
   "source": []
  },
  {
   "cell_type": "code",
   "execution_count": 214,
   "id": "3018828c-b29a-4e5a-ba42-7f14392a6ace",
   "metadata": {},
   "outputs": [],
   "source": [
    "n_samples = int(clkfreq * 0.683)"
   ]
  },
  {
   "cell_type": "code",
   "execution_count": null,
   "id": "9904237d-5d7a-4869-9e4f-d08ba81581cd",
   "metadata": {},
   "outputs": [],
   "source": []
  },
  {
   "cell_type": "code",
   "execution_count": 215,
   "id": "746e1f60-10ed-4a7b-a75a-92b45196e1c3",
   "metadata": {},
   "outputs": [],
   "source": [
    "ys = np.array([(i*osfreq % (2**32)) >> 31 for i in range(n_samples)])\n",
    "n = len(ys)\n",
    "offs = 1\n",
    "xf = fftfreq(n, 1/clkfreq)[offs:n//2]\n",
    "yf = np.abs(fft(ys))[offs:n//2]"
   ]
  },
  {
   "cell_type": "code",
   "execution_count": 216,
   "id": "4f04db54-554a-4bca-b0d1-df214f363334",
   "metadata": {},
   "outputs": [
    {
     "data": {
      "text/plain": [
       "1.4641288433382138"
      ]
     },
     "execution_count": 216,
     "metadata": {},
     "output_type": "execute_result"
    }
   ],
   "source": [
    "xf[1] - xf[0]"
   ]
  },
  {
   "cell_type": "code",
   "execution_count": 217,
   "id": "12584b08-2253-4419-8379-e13fd643de18",
   "metadata": {},
   "outputs": [
    {
     "data": {
      "text/plain": [
       "((13659999,), (13659999,))"
      ]
     },
     "execution_count": 217,
     "metadata": {},
     "output_type": "execute_result"
    }
   ],
   "source": [
    "xf.shape, yf.shape"
   ]
  },
  {
   "cell_type": "code",
   "execution_count": 218,
   "id": "219734e0-22b1-49be-adf3-9238eb06eb96",
   "metadata": {},
   "outputs": [
    {
     "data": {
      "text/plain": [
       "[<matplotlib.lines.Line2D at 0x16bcbbf70>]"
      ]
     },
     "execution_count": 218,
     "metadata": {},
     "output_type": "execute_result"
    },
    {
     "data": {
      "image/png": "[encoded data removed]",
      "text/plain": [
       "<Figure size 640x480 with 1 Axes>"
      ]
     },
     "metadata": {},
     "output_type": "display_data"
    }
   ],
   "source": [
    "plt.plot(yf)"
   ]
  },
  {
   "cell_type": "code",
   "execution_count": 219,
   "id": "36fe6891-2a22-4f6d-8c00-d05a3e517c64",
   "metadata": {},
   "outputs": [
    {
     "data": {
      "text/plain": [
       "5336281"
      ]
     },
     "execution_count": 219,
     "metadata": {},
     "output_type": "execute_result"
    }
   ],
   "source": [
    "np.argmax(yf)"
   ]
  },
  {
   "cell_type": "code",
   "execution_count": 220,
   "id": "2df66baf-22f4-4053-895a-807d3ee22f0c",
   "metadata": {},
   "outputs": [
    {
     "data": {
      "text/plain": [
       "7813004.3923865305"
      ]
     },
     "execution_count": 220,
     "metadata": {},
     "output_type": "execute_result"
    }
   ],
   "source": [
    "xf[np.argmax(yf)]"
   ]
  },
  {
   "cell_type": "code",
   "execution_count": null,
   "id": "c91a90a1-4845-4703-b0e6-6f9cf69833e9",
   "metadata": {},
   "outputs": [],
   "source": []
  },
  {
   "cell_type": "code",
   "execution_count": null,
   "id": "5b9318af-cab7-4498-a9a9-07f311131480",
   "metadata": {},
   "outputs": [],
   "source": []
  },
  {
   "cell_type": "code",
   "execution_count": null,
   "id": "fd965ab5-8470-4f31-b723-280de51fb36f",
   "metadata": {},
   "outputs": [],
   "source": []
  },
  {
   "cell_type": "code",
   "execution_count": null,
   "id": "1cf1c7c1-406b-48aa-8103-2047a5269326",
   "metadata": {},
   "outputs": [],
   "source": []
  },
  {
   "cell_type": "code",
   "execution_count": null,
   "id": "86e99041-4d53-4493-a7bc-5be5cd9c3df1",
   "metadata": {},
   "outputs": [],
   "source": []
  },
  {
   "cell_type": "code",
   "execution_count": null,
   "id": "d5ce73de-eb9c-4bb2-be5f-f0c182413535",
   "metadata": {},
   "outputs": [],
   "source": []
  }
 ],
 "metadata": {
  "kernelspec": {
   "display_name": "Python 3 (ipykernel)",
   "language": "python",
   "name": "python3"
  },
  "language_info": {
   "codemirror_mode": {
    "name": "ipython",
    "version": 3
   },
   "file_extension": ".py",
   "mimetype": "text/x-python",
   "name": "python",
   "nbconvert_exporter": "python",
   "pygments_lexer": "ipython3",
   "version": "3.10.4"
  }
 },
 "nbformat": 4,
 "nbformat_minor": 5
}
