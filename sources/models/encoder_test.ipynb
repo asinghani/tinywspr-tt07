{
 "cells": [
  {
   "cell_type": "code",
   "execution_count": 1,
   "id": "f98269b0-4fae-4181-bdb9-4df22fd1a5ff",
   "metadata": {},
   "outputs": [],
   "source": [
    "import math"
   ]
  },
  {
   "cell_type": "code",
   "execution_count": 2,
   "id": "72b2478c-695b-46d2-980b-1b8e16aa5f4e",
   "metadata": {},
   "outputs": [
    {
     "data": {
      "text/plain": [
       "('0x30', '0x41', '0x20')"
      ]
     },
     "execution_count": 2,
     "metadata": {},
     "output_type": "execute_result"
    }
   ],
   "source": [
    "hex(ord(\"0\")), hex(ord(\"A\")), hex(ord(\" \"))"
   ]
  },
  {
   "cell_type": "code",
   "execution_count": null,
   "id": "1211afd8-1f7b-4b92-b50f-ee908105a0f3",
   "metadata": {},
   "outputs": [],
   "source": []
  },
  {
   "cell_type": "code",
   "execution_count": null,
   "id": "15bf05d3-c548-4666-9c9a-87cbe9255508",
   "metadata": {},
   "outputs": [],
   "source": []
  },
  {
   "cell_type": "code",
   "execution_count": null,
   "id": "c1ed3157-9f31-4454-b765-fde3e9658c22",
   "metadata": {},
   "outputs": [],
   "source": []
  },
  {
   "cell_type": "code",
   "execution_count": 38,
   "id": "81a50e79-caee-4beb-90a9-95cae22a84e9",
   "metadata": {},
   "outputs": [],
   "source": [
    "# TODO: convert from ascii\n",
    "def cschar(ch):\n",
    "    chh = ord(ch)\n",
    "    if chh == 0x20: out = 36\n",
    "    elif chh <= 0x39: out = chh - 0x30\n",
    "    else: out = chh - 0x41 + 10\n",
    "\n",
    "    assert out == \"0123456789ABCDEFGHIJKLMNOPQRSTUVWXYZ \".index(ch)\n",
    "    return out\n",
    "\n",
    "# TODO: convert from ascii\n",
    "def locchar1(ch):\n",
    "    chh = ord(ch)\n",
    "    out = chh - ord(\"A\")\n",
    "    assert out == \"ABCDEFGHIJKLMNOPQR\".index(ch)\n",
    "    return out\n",
    "    \n",
    "def locchar2(ch):\n",
    "    chh = ord(ch)\n",
    "    out = chh - ord(\"0\")\n",
    "    assert out == \"0123456789\".index(ch)\n",
    "    return out"
   ]
  },
  {
   "cell_type": "code",
   "execution_count": 124,
   "id": "2fec5139-53b9-433c-a4c2-3ee5120cdf2f",
   "metadata": {},
   "outputs": [],
   "source": [
    "cs = \" K3RTL\"\n",
    "assert len(cs) == 6\n",
    "assert cs[0] in \" ABCDEFGHIJKLMNOPQRSTUVWXYZ0123456789\"\n",
    "assert cs[1] in \"ABCDEFGHIJKLMNOPQRSTUVWXYZ0123456789\"\n",
    "assert cs[2] in \"0123456789\"\n",
    "assert cs[3] in \" ABCDEFGHIJKLMNOPQRSTUVWXYZ\"\n",
    "assert cs[4] in \" ABCDEFGHIJKLMNOPQRSTUVWXYZ\"\n",
    "assert cs[5] in \" ABCDEFGHIJKLMNOPQRSTUVWXYZ\"\n",
    "\n",
    "loc = \"FN00\"\n",
    "assert len(loc) == 4\n",
    "assert loc[0] in \"ABCDEFGHIJKLMNOPQR\"\n",
    "assert loc[1] in \"ABCDEFGHIJKLMNOPQR\"\n",
    "assert loc[2] in \"0123456789\"\n",
    "assert loc[3] in \"0123456789\"\n",
    "\n",
    "pwr = 13\n",
    "assert 0 <= pwr <= 60"
   ]
  },
  {
   "cell_type": "code",
   "execution_count": 125,
   "id": "862775b0-531a-417e-8559-526df6f804e6",
   "metadata": {},
   "outputs": [
    {
     "data": {
      "text/plain": [
       "259100246"
      ]
     },
     "execution_count": 125,
     "metadata": {},
     "output_type": "execute_result"
    }
   ],
   "source": [
    "N = 0\n",
    "N = N + cschar(cs[0])\n",
    "N = N * 36\n",
    "N = N + cschar(cs[1])\n",
    "N = N * 10\n",
    "N = N + cschar(cs[2])\n",
    "N = N * 27\n",
    "N = N + cschar(cs[3])\n",
    "N = N - 10\n",
    "N = N * 27\n",
    "N = N + cschar(cs[4])\n",
    "N = N - 10\n",
    "N = N * 27\n",
    "N = N + cschar(cs[5])\n",
    "N = N - 10\n",
    "\n",
    "N"
   ]
  },
  {
   "cell_type": "code",
   "execution_count": 126,
   "id": "bdec1369-3129-4924-9e2e-369bbca8b025",
   "metadata": {},
   "outputs": [
    {
     "name": "stdout",
     "output_type": "stream",
     "text": [
      "23350\n"
     ]
    }
   ],
   "source": [
    "M = 0\n",
    "M = M + locchar1(loc[0])\n",
    "M = M * 10\n",
    "M = M + locchar2(loc[2])\n",
    "M = (179 - M)\n",
    "M = M * 18\n",
    "M = M + locchar1(loc[1])\n",
    "M = M * 10\n",
    "M = M + locchar2(loc[3])\n",
    "print(M)"
   ]
  },
  {
   "cell_type": "code",
   "execution_count": null,
   "id": "9a2a94a7-0588-425a-b043-772b7e4621d1",
   "metadata": {},
   "outputs": [],
   "source": []
  },
  {
   "cell_type": "code",
   "execution_count": 127,
   "id": "10a39bfc-fe62-4ed4-91c8-bb525b7f1e5f",
   "metadata": {},
   "outputs": [],
   "source": [
    "bit_string = (\n",
    "    (N << 53) |\n",
    "    (M << 38) |\n",
    "    (1 << 37) |\n",
    "    (pwr << 31)\n",
    ")"
   ]
  },
  {
   "cell_type": "code",
   "execution_count": 128,
   "id": "187f4f01-c7ba-4ae0-9909-95d003fb0fb4",
   "metadata": {},
   "outputs": [
    {
     "data": {
      "text/plain": [
       "2333767549092972176867328"
      ]
     },
     "execution_count": 128,
     "metadata": {},
     "output_type": "execute_result"
    }
   ],
   "source": [
    "bit_string"
   ]
  },
  {
   "cell_type": "code",
   "execution_count": 129,
   "id": "27ff148e-fdf2-4942-ab06-ea3f88d3bb6c",
   "metadata": {},
   "outputs": [
    {
     "name": "stdout",
     "output_type": "stream",
     "text": [
      "111101110001100011100101011010110110011011010011010000000000000000000000000000000\n",
      "000000000000000000000000000011110111101000011100100000000000000000000000000000000\n"
     ]
    }
   ],
   "source": [
    "print(f\"{bit_string:081b}\")\n",
    "print(f\"{8712774951632896:081b}\")"
   ]
  },
  {
   "cell_type": "code",
   "execution_count": null,
   "id": "9ef7bb8b-0b7c-4c83-9ecf-6cf4b0a87ee9",
   "metadata": {},
   "outputs": [],
   "source": []
  },
  {
   "cell_type": "code",
   "execution_count": 130,
   "id": "521c56ae-c302-47a6-b027-ab8f225b172b",
   "metadata": {},
   "outputs": [
    {
     "data": {
      "text/plain": [
       "80.94893514833701"
      ]
     },
     "execution_count": 130,
     "metadata": {},
     "output_type": "execute_result"
    }
   ],
   "source": [
    "math.log2(bit_string)"
   ]
  },
  {
   "cell_type": "code",
   "execution_count": null,
   "id": "b76e2ae2-ad37-4779-9b1e-978735271472",
   "metadata": {},
   "outputs": [],
   "source": []
  },
  {
   "cell_type": "code",
   "execution_count": 131,
   "id": "73402188-5378-4db9-9b41-c87e85a189c5",
   "metadata": {},
   "outputs": [],
   "source": [
    "def xor_reduce(x):\n",
    "    return (f\"{x:b}\".count(\"1\")) & 1"
   ]
  },
  {
   "cell_type": "code",
   "execution_count": 132,
   "id": "1044c9f1-5264-42b1-9e59-b960526ca61b",
   "metadata": {},
   "outputs": [],
   "source": [
    "reg0 = 0\n",
    "reg1 = 0"
   ]
  },
  {
   "cell_type": "code",
   "execution_count": 133,
   "id": "4f1df2c9-d9f6-4dc1-8eac-00a305e09544",
   "metadata": {},
   "outputs": [
    {
     "data": {
      "text/plain": [
       "162"
      ]
     },
     "execution_count": 133,
     "metadata": {},
     "output_type": "execute_result"
    }
   ],
   "source": [
    "out_bits = []\n",
    "tmp = bit_string\n",
    "for _ in range(81):\n",
    "    top_bit = (tmp >> 80) & 1\n",
    "    tmp <<= 1\n",
    "    reg0 = ((reg0 << 1) | top_bit) & 0xFFFFFFFF\n",
    "    \n",
    "    out_bits.append(xor_reduce(reg0 & 0xF2D05351))\n",
    "    out_bits.append(xor_reduce(reg0 & 0xE4613C47))\n",
    "    \n",
    "len(out_bits)"
   ]
  },
  {
   "cell_type": "code",
   "execution_count": 134,
   "id": "5380fb7d-7ea7-493d-9fc9-43a821a97bee",
   "metadata": {},
   "outputs": [
    {
     "name": "stdout",
     "output_type": "stream",
     "text": [
      "[1, 1, 1, 0, 1, 1, 1, 1, 1, 0, 0, 0, 1, 1, 1, 0, 0, 1, 0, 0, 1, 1, 1, 0, 0, 0, 1, 1, 0, 0, 1, 1, 0, 1, 0, 1, 1, 0, 1, 1, 1, 0, 1, 0, 0, 1, 0, 0, 1, 0, 1, 0, 1, 1, 0, 1, 0, 1, 0, 0, 0, 0, 0, 1, 1, 0, 1, 0, 0, 1, 0, 0, 1, 0, 0, 1, 1, 1, 1, 0, 1, 1, 0, 0, 0, 1, 0, 1, 1, 0, 0, 1, 1, 0, 1, 0, 0, 1, 0, 1, 1, 1, 0, 1, 1, 0, 1, 1, 1, 1, 1, 0, 1, 1, 0, 0, 0, 0, 0, 1, 0, 0, 1, 0, 1, 0, 1, 1, 1, 0, 0, 1, 1, 0, 1, 0, 1, 0, 0, 0, 1, 1, 1, 1, 0, 1, 1, 0, 1, 1, 0, 0, 0, 0, 1, 0, 0, 0, 1, 1, 1, 1]\n"
     ]
    }
   ],
   "source": [
    "print(out_bits)"
   ]
  },
  {
   "cell_type": "code",
   "execution_count": 135,
   "id": "49acc3ef-530f-4e4d-99c4-2c653e7163b8",
   "metadata": {},
   "outputs": [
    {
     "name": "stdout",
     "output_type": "stream",
     "text": [
      "5470489249118428733615144273840563155431526871183\n"
     ]
    }
   ],
   "source": [
    "print(int(\"\".join(str(x) for x in out_bits), 2))"
   ]
  },
  {
   "cell_type": "code",
   "execution_count": null,
   "id": "8dd46f41-eb17-4842-b9e7-ae234fcdd5fe",
   "metadata": {},
   "outputs": [],
   "source": []
  },
  {
   "cell_type": "code",
   "execution_count": 136,
   "id": "9bfd54ae-daa7-4790-abf4-668aa6de6001",
   "metadata": {},
   "outputs": [
    {
     "name": "stdout",
     "output_type": "stream",
     "text": [
      "[0, 81, 41, 122, 21, 102, 61, 142, 11, 92, 51, 132, 31, 112, 71, 152, 6, 87, 46, 127, 26, 107, 66, 147, 16, 97, 56, 137, 36, 117, 76, 157, 3, 84, 44, 125, 24, 105, 64, 145, 14, 95, 54, 135, 34, 115, 74, 155, 9, 90, 49, 130, 29, 110, 69, 150, 19, 100, 59, 140, 39, 120, 79, 160, 2, 83, 43, 124, 23, 104, 63, 144, 13, 94, 53, 134, 33, 114, 73, 154, 8, 89, 48, 129, 28, 109, 68, 149, 18, 99, 58, 139, 38, 119, 78, 159, 5, 86, 45, 126, 25, 106, 65, 146, 15, 96, 55, 136, 35, 116, 75, 156, 10, 91, 50, 131, 30, 111, 70, 151, 20, 101, 60, 141, 40, 121, 80, 161, 1, 82, 42, 123, 22, 103, 62, 143, 12, 93, 52, 133, 32, 113, 72, 153, 7, 88, 47, 128, 27, 108, 67, 148, 17, 98, 57, 138, 37, 118, 77, 158, 4, 85]\n"
     ]
    }
   ],
   "source": [
    "interleaving_map = [None for _ in range(162)]\n",
    "P = 0\n",
    "for I in range(256):\n",
    "    J = int(f\"{I:08b}\"[::-1], 2)\n",
    "    if J < 162:\n",
    "        interleaving_map[J] = P\n",
    "        P += 1\n",
    "    \n",
    "print(interleaving_map)"
   ]
  },
  {
   "cell_type": "code",
   "execution_count": 137,
   "id": "e3eeb5a0-37ff-4fba-95bb-eece231d00cb",
   "metadata": {},
   "outputs": [],
   "source": [
    "interleaved_bits = [out_bits[interleaving_map[i]] for i in range(162)]\n"
   ]
  },
  {
   "cell_type": "code",
   "execution_count": 138,
   "id": "fba58a9d-3f3a-4ec2-9811-5340b23ce59e",
   "metadata": {},
   "outputs": [
    {
     "name": "stdout",
     "output_type": "stream",
     "text": [
      "4963688119760249695158204801025899981210681833103\n"
     ]
    }
   ],
   "source": [
    "print(int(\"\".join(str(x) for x in interleaved_bits), 2))"
   ]
  },
  {
   "cell_type": "code",
   "execution_count": null,
   "id": "f74bdb01-b028-4248-935b-c6ec95751ea2",
   "metadata": {},
   "outputs": [],
   "source": []
  },
  {
   "cell_type": "code",
   "execution_count": null,
   "id": "f5c38697-6aad-45be-88cd-c7113112fbee",
   "metadata": {},
   "outputs": [],
   "source": []
  },
  {
   "cell_type": "code",
   "execution_count": null,
   "id": "db93c4ca-d809-45fe-9693-b3fd6f87a29e",
   "metadata": {},
   "outputs": [],
   "source": []
  },
  {
   "cell_type": "code",
   "execution_count": 139,
   "id": "03e67eb2-dc6e-46a7-a602-405e53725f32",
   "metadata": {},
   "outputs": [
    {
     "data": {
      "text/plain": [
       "162"
      ]
     },
     "execution_count": 139,
     "metadata": {},
     "output_type": "execute_result"
    }
   ],
   "source": [
    "sync_vector = [1,1,0,0,0,0,0,0,1,0,0,0,1,1,1,0,0,0,1,0,0,1,0,1,1,1,1,0,0,0,0,0,0,0,1,0,0,1,0,1,0,0, 0,0,0,0,1,0,1,1,0,0,1,1,0,1,0,0,0,1,1,0,1,0,0,0,0,1,1,0,1,0,1,0,1,0,1,0,0,1,0,0,1,0, 1,1,0,0,0,1,1,0,1,0,1,0,0,0,1,0,0,0,0,0,1,0,0,1,0,0,1,1,1,0,1,1,0,0,1,1,0,1,0,0,0,1, 1,1,0,0,0,0,0,1,0,1,0,0,1,1,0,0,0,0,0,0,0,1,1,0,1,0,1,1,0,0,0,1,1,0,0,0]\n",
    "len(sync_vector)"
   ]
  },
  {
   "cell_type": "code",
   "execution_count": 140,
   "id": "58bb3f52-73d6-4811-a5ca-7c82524a6406",
   "metadata": {},
   "outputs": [],
   "source": [
    "final_bits = [2*interleaved_bits[i] + sync_vector[i] for i in range(162)]"
   ]
  },
  {
   "cell_type": "code",
   "execution_count": 141,
   "id": "92e0db97-df18-47b2-9328-834c5c236ba9",
   "metadata": {},
   "outputs": [
    {
     "name": "stdout",
     "output_type": "stream",
     "text": [
      "[3, 3, 0, 2, 2, 0, 0, 2, 1, 2, 0, 2, 3, 3, 1, 0, 2, 2, 1, 2, 2, 3, 2, 1, 1, 3, 1, 0, 2, 0, 2, 0, 0, 0, 1, 0, 0, 1, 2, 3, 2, 0, 0, 0, 0, 0, 1, 0, 1, 1, 0, 0, 1, 3, 2, 1, 0, 2, 0, 3, 3, 0, 1, 2, 2, 0, 0, 3, 1, 2, 3, 0, 3, 2, 3, 2, 3, 0, 0, 3, 2, 0, 3, 0, 1, 3, 0, 2, 0, 3, 1, 0, 3, 2, 3, 2, 2, 0, 3, 2, 0, 2, 0, 2, 1, 0, 2, 3, 2, 0, 3, 1, 1, 2, 3, 3, 2, 0, 1, 1, 2, 3, 0, 2, 2, 1, 3, 3, 2, 0, 2, 0, 2, 3, 0, 3, 2, 0, 3, 1, 0, 2, 2, 0, 2, 2, 0, 3, 3, 2, 1, 2, 3, 1, 2, 0, 0, 1, 3, 2, 2, 2]\n"
     ]
    }
   ],
   "source": [
    "print(final_bits)"
   ]
  },
  {
   "cell_type": "code",
   "execution_count": null,
   "id": "6f9b05bd-548d-4151-a03e-c2e53f88d48c",
   "metadata": {},
   "outputs": [],
   "source": []
  },
  {
   "cell_type": "code",
   "execution_count": 120,
   "id": "06046f80-392a-4399-aa71-e6cbeb45a63e",
   "metadata": {},
   "outputs": [
    {
     "name": "stdout",
     "output_type": "stream",
     "text": [
      "33395857051595779595594712565422928868805109926684639601100021250411892661059934935740615716307810\n"
     ]
    }
   ],
   "source": [
    "print(int(\"\".join(f\"{x:02b}\" for x in final_bits), 2))"
   ]
  },
  {
   "cell_type": "code",
   "execution_count": null,
   "id": "a7f9e021-9ab5-4268-84fe-1289646f1b30",
   "metadata": {},
   "outputs": [],
   "source": []
  },
  {
   "cell_type": "code",
   "execution_count": null,
   "id": "0f29d80c-205b-4f20-8cd5-22ca4bbe3e12",
   "metadata": {},
   "outputs": [],
   "source": []
  },
  {
   "cell_type": "code",
   "execution_count": 121,
   "id": "efaa6642-17da-4394-85b0-86fc9a235640",
   "metadata": {},
   "outputs": [],
   "source": [
    "assert final_bits == [3, 3, 2, 2, 0, 2, 2, 0, 1, 2, 0, 2, 1, 1, 3, 0, 2, 2, 3, 0, 0, 1, 0, 1, 3, 3, 3, 2, 2, 2, 0, 2, 0, 2, 3, 2, 0, 1, 0, 3, 2, 2, 0, 2, 2, 2, 3, 2, 3, 3, 2, 2, 1, 1, 0, 1, 0, 2, 2, 1, 1, 0, 1, 0, 2, 2, 0, 1, 1, 2, 1, 0, 3, 2, 1, 0, 1, 0, 2, 3, 2, 0, 1, 0, 1, 1, 2, 0, 0, 1, 3, 2, 3, 2, 3, 2, 0, 2, 3, 2, 2, 0, 2, 0, 1, 0, 0, 1, 2, 0, 3, 3, 1, 0, 3, 3, 2, 0, 3, 1, 2, 3, 2, 0, 0, 3, 3, 1, 2, 2, 0, 2, 2, 3, 0, 3, 0, 0, 1, 1, 2, 2, 0, 2, 0, 2, 2, 3, 1, 0, 1, 2, 1, 1, 0, 0, 0, 3, 1, 2, 0, 2]\n",
    "\n",
    "\n"
   ]
  },
  {
   "cell_type": "code",
   "execution_count": 122,
   "id": "0e37ca24-6bc6-40e9-9b90-e6246aecb07e",
   "metadata": {},
   "outputs": [
    {
     "data": {
      "text/plain": [
       "'000110001101011000000011001010000011100010110011011100100100000100010101100011010010010101010110000101100010110011010000001010010000000111101001000111000100000011'"
      ]
     },
     "execution_count": 122,
     "metadata": {},
     "output_type": "execute_result"
    }
   ],
   "source": [
    "\"\".join(str(x) for x in sync_vector[::-1])"
   ]
  },
  {
   "cell_type": "code",
   "execution_count": null,
   "id": "4274c464-4e5a-4b16-886a-336671973425",
   "metadata": {},
   "outputs": [],
   "source": []
  },
  {
   "cell_type": "code",
   "execution_count": null,
   "id": "070fab38-5ae4-4c63-a858-5dc84471f4bf",
   "metadata": {},
   "outputs": [],
   "source": []
  },
  {
   "cell_type": "code",
   "execution_count": null,
   "id": "f406eae0-6c0c-4b92-ac73-fa2769795a73",
   "metadata": {},
   "outputs": [],
   "source": []
  },
  {
   "cell_type": "code",
   "execution_count": null,
   "id": "89cc2950-ff3f-43b5-8fec-25bcda9efed5",
   "metadata": {},
   "outputs": [],
   "source": []
  },
  {
   "cell_type": "code",
   "execution_count": null,
   "id": "81dedc9e-6010-4dcd-8f71-b982e2fbf535",
   "metadata": {},
   "outputs": [],
   "source": []
  }
 ],
 "metadata": {
  "kernelspec": {
   "display_name": "Python 3 (ipykernel)",
   "language": "python",
   "name": "python3"
  },
  "language_info": {
   "codemirror_mode": {
    "name": "ipython",
    "version": 3
   },
   "file_extension": ".py",
   "mimetype": "text/x-python",
   "name": "python",
   "nbconvert_exporter": "python",
   "pygments_lexer": "ipython3",
   "version": "3.10.4"
  }
 },
 "nbformat": 4,
 "nbformat_minor": 5
}
